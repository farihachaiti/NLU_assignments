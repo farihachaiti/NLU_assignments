{
 "cells": [
  {
   "cell_type": "code",
   "execution_count": 1,
   "id": "300eac6e",
   "metadata": {},
   "outputs": [
    {
     "name": "stdout",
     "output_type": "stream",
     "text": [
      "\u001b[1mMyStupidBackoff StupidBackoff : Perplexity\u001b[0m\n",
      "1.04e+03\n",
      "\u001b[1mMyStupidBackoff StupidBackoff : Manual Function Perplexity\u001b[0m\n",
      "1.04e+03\n"
     ]
    }
   ],
   "source": [
    "from nltk.lm import NgramCounter\n",
    "from nltk import word_tokenize \n",
    "from nltk.util import ngrams\n",
    "import nltk\n",
    "from nltk.probability import FreqDist\n",
    "from nltk.lm.api import LanguageModel\n",
    "from nltk.corpus import gutenberg\n",
    "from collections import Counter\n",
    "from nltk.lm.preprocessing import padded_everygram_pipeline\n",
    "from nltk.lm.preprocessing import flatten\n",
    "from nltk.lm import Vocabulary\n",
    "from itertools import chain\n",
    "import math\n",
    "import numpy as np\n",
    "\n",
    "\n",
    "\n",
    "class MyStupidBackoff(LanguageModel):\n",
    "    \n",
    "    def __init__(self, context, fdist, alpha=0.4,  *args, **kwargs):\n",
    "        super().__init__(*args, **kwargs)\n",
    "        self.alpha = alpha\n",
    "        self.context = context\n",
    "        self.fdist = fdist\n",
    "\n",
    "    def compute_ngram(self, order, text):\n",
    "        token = word_tokenize(text)\n",
    "        ngram_words = list(ngrams(token, order))\n",
    "        return ngram_words\n",
    "\n",
    "    def compute_ppl(self, model, data):\n",
    "        highest_ngram = model.order\n",
    "        scores = []\n",
    "        for sentence in data:   \n",
    "            ngrams, flat_text = padded_everygram_pipeline(highest_ngram, [sentence])\n",
    "            ngrams = chain.from_iterable(ngrams)\n",
    "            scores.extend([-1 * model.logscore(w[-1], w[0:-1]) for w in ngrams if len(w) == highest_ngram])\n",
    "        return math.pow(2.0, np.asarray(scores).mean())\n",
    "\n",
    "    def stupid_backoff(self, word, context=None):              \n",
    "        padded_ngrams, flat_text = padded_everygram_pipeline(self.order, context)\n",
    "        unigrams = self.compute_ngram(1, word)\n",
    "        if not context:\n",
    "            return len(unigrams) \n",
    "        if fdist.freq(word)<=0:\n",
    "            return self.alpha*self.stupid_backoff(word, context[1:])\n",
    "        else: \n",
    "            return fdist.freq(word)/NgramCounter(padded_ngrams).N()\n",
    "\n",
    "    def unmasked_score(self, word, context=None):\n",
    "        return self.stupid_backoff(word, context)\n",
    "\n",
    "macbeth_sents = [[w.lower() for w in sent] for sent in gutenberg.sents('shakespeare-macbeth.txt')]\n",
    "macbeth_words = flatten(macbeth_sents)\n",
    "# Compute vocab \n",
    "lex = Vocabulary(macbeth_words, unk_cutoff=2)\n",
    "# Handeling OOV\n",
    "macbeth_oov_sents = [list(lex.lookup(sent)) for sent in macbeth_sents]\n",
    "padded_ngrams_oov, flat_text_oov = padded_everygram_pipeline(2, macbeth_oov_sents)\n",
    "# Train the model \n",
    "fdist = FreqDist(chain.from_iterable(macbeth_oov_sents))\n",
    "stupid = MyStupidBackoff(macbeth_oov_sents, fdist, 0.4, 2)\n",
    "stupid.fit(padded_ngrams_oov, flat_text_oov)\n",
    "\n",
    "ngrms, flat_text = padded_everygram_pipeline(stupid.order, macbeth_sents)\n",
    "ngrms = chain.from_iterable(ngrms)\n",
    "\n",
    "print(\"\\033[1mMyStupidBackoff StupidBackoff : Perplexity\\033[0m\")\n",
    "print(\"{:.3}\".format(stupid.perplexity([x for x in ngrms if len(x) == stupid.order])))\n",
    "\n",
    "print(\"\\033[1mMyStupidBackoff StupidBackoff : Manual Function Perplexity\\033[0m\")\n",
    "print(\"{:.3}\".format(stupid.compute_ppl(stupid, macbeth_sents)))"
   ]
  },
  {
   "cell_type": "code",
   "execution_count": null,
   "id": "e14a778d",
   "metadata": {},
   "outputs": [],
   "source": []
  }
 ],
 "metadata": {
  "kernelspec": {
   "display_name": "Python 3 (ipykernel)",
   "language": "python",
   "name": "python3"
  },
  "language_info": {
   "codemirror_mode": {
    "name": "ipython",
    "version": 3
   },
   "file_extension": ".py",
   "mimetype": "text/x-python",
   "name": "python",
   "nbconvert_exporter": "python",
   "pygments_lexer": "ipython3",
   "version": "3.11.2"
  }
 },
 "nbformat": 4,
 "nbformat_minor": 5
}
